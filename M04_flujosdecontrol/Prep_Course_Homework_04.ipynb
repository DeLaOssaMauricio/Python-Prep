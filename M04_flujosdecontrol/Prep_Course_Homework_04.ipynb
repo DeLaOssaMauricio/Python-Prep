{
 "cells": [
  {
   "attachments": {},
   "cell_type": "markdown",
   "metadata": {},
   "source": [
    "## Flujos de Control"
   ]
  },
  {
   "attachments": {},
   "cell_type": "markdown",
   "metadata": {},
   "source": [
    "1) Crear una variable que contenga un elemento del conjunto de números enteros y luego imprimir por pantalla si es mayor o menor a cero"
   ]
  },
  {
   "cell_type": "code",
   "execution_count": 1,
   "metadata": {},
   "outputs": [
    {
     "name": "stdout",
     "output_type": "stream",
     "text": [
      "0 Es igual a 0\n"
     ]
    }
   ],
   "source": [
    "m = 0\n",
    "\n",
    "if m > 0:\n",
    "    print(m, \"Es mayor a 0\")\n",
    "\n",
    "elif m < 0:\n",
    "    print(m, \"Es menor a 0\")\n",
    "\n",
    "else:\n",
    "    print(m, \"Es igual a 0\")"
   ]
  },
  {
   "attachments": {},
   "cell_type": "markdown",
   "metadata": {},
   "source": [
    "2) Crear dos variables y un condicional que informe si son del mismo tipo de dato"
   ]
  },
  {
   "cell_type": "code",
   "execution_count": 3,
   "metadata": {},
   "outputs": [
    {
     "name": "stdout",
     "output_type": "stream",
     "text": [
      "22 y mau no son del mismo tipo\n"
     ]
    }
   ],
   "source": [
    "var1 = 22\n",
    "var2 = \"mau\"\n",
    "\n",
    "if type(var1) == type(var2):\n",
    "    print(f\"{var1} y {var2} son del mismo tipo\")\n",
    "\n",
    "if type(var1) != type(var2):\n",
    "    print(f\"{var1} y {var2} no son del mismo tipo\")"
   ]
  },
  {
   "attachments": {},
   "cell_type": "markdown",
   "metadata": {},
   "source": [
    "3) Para los valores enteros del 1 al 20, imprimir por pantalla si es par o impar"
   ]
  },
  {
   "cell_type": "code",
   "execution_count": 2,
   "metadata": {},
   "outputs": [
    {
     "name": "stdout",
     "output_type": "stream",
     "text": [
      "0 es un numero par\n",
      "1 es un numero impar\n",
      "2 es un numero par\n",
      "3 es un numero impar\n",
      "4 es un numero par\n",
      "5 es un numero impar\n",
      "6 es un numero par\n",
      "7 es un numero impar\n",
      "8 es un numero par\n",
      "9 es un numero impar\n",
      "10 es un numero par\n",
      "11 es un numero impar\n",
      "12 es un numero par\n",
      "13 es un numero impar\n",
      "14 es un numero par\n",
      "15 es un numero impar\n",
      "16 es un numero par\n",
      "17 es un numero impar\n",
      "18 es un numero par\n",
      "19 es un numero impar\n",
      "20 es un numero par\n"
     ]
    }
   ],
   "source": [
    "for m in range(0,21):\n",
    "    if m % 2 == 0:\n",
    "        print(f\"{m} es un numero par\")\n",
    "\n",
    "    else:    \n",
    "        print(f\"{m} es un numero impar\")\n",
    "\n",
    "        "
   ]
  },
  {
   "attachments": {},
   "cell_type": "markdown",
   "metadata": {},
   "source": [
    "4) En un ciclo for mostrar para los valores entre 0 y 5 el resultado de elevarlo a la potencia igual a 3"
   ]
  },
  {
   "cell_type": "code",
   "execution_count": 4,
   "metadata": {},
   "outputs": [
    {
     "name": "stdout",
     "output_type": "stream",
     "text": [
      "Este es el valor de 0 \n",
      "0\n",
      "Este es el valor de 1 \n",
      "1\n",
      "Este es el valor de 2 \n",
      "8\n",
      "Este es el valor de 3 \n",
      "27\n",
      "Este es el valor de 4 \n",
      "64\n",
      "Este es el valor de 5 \n",
      "125\n"
     ]
    }
   ],
   "source": [
    "for i in range(6):\n",
    "    m = i**3\n",
    "    print(f\"Este es el valor de {i} \")\n",
    "    print(m)"
   ]
  },
  {
   "attachments": {},
   "cell_type": "markdown",
   "metadata": {},
   "source": [
    "5) Crear una variable que contenga un número entero y realizar un ciclo for la misma cantidad de ciclos"
   ]
  },
  {
   "cell_type": "code",
   "execution_count": 5,
   "metadata": {},
   "outputs": [
    {
     "name": "stdout",
     "output_type": "stream",
     "text": [
      "Este es el ciclo numero 1\n",
      "Este es el ciclo numero 2\n",
      "Este es el ciclo numero 3\n",
      "Este es el ciclo numero 4\n",
      "Este es el ciclo numero 5\n"
     ]
    }
   ],
   "source": [
    "var3 = 5\n",
    "\n",
    "for i in range (var3):\n",
    "    print(f\"Este es el ciclo numero {i+1}\")\n",
    "    i-=1\n"
   ]
  },
  {
   "attachments": {},
   "cell_type": "markdown",
   "metadata": {},
   "source": [
    "6) Utilizar un ciclo while para realizar el factorial de un número guardado en una variable, sólo si la variable contiene un número entero mayor a 0"
   ]
  },
  {
   "cell_type": "code",
   "execution_count": 6,
   "metadata": {},
   "outputs": [
    {
     "name": "stdout",
     "output_type": "stream",
     "text": [
      "El factorial es 120\n"
     ]
    }
   ],
   "source": [
    "var4 = 5\n",
    "factorial = 1\n",
    "while var4 > 0:\n",
    "\n",
    "    #m = var4 - 1\n",
    "    factorial = factorial*var4\n",
    "\n",
    "    var4-=1\n",
    "print(f\"El factorial es {factorial}\" )\n",
    "\n",
    "\n",
    "#print(f\"El factorial de {var4} es {factorial}\" )\n",
    "\n",
    "\n",
    " "
   ]
  },
  {
   "attachments": {},
   "cell_type": "markdown",
   "metadata": {},
   "source": [
    "7) Crear un ciclo for dentro de un ciclo while"
   ]
  },
  {
   "cell_type": "code",
   "execution_count": 7,
   "metadata": {},
   "outputs": [
    {
     "name": "stdout",
     "output_type": "stream",
     "text": [
      "1 es impar\n",
      "2 es par\n",
      "3 es impar\n",
      "4 es par\n",
      "5 es impar\n"
     ]
    }
   ],
   "source": [
    "numero = 6\n",
    "#multiplicacion = 2\n",
    "while numero > 1:\n",
    "    #multiplicacion = numero * multiplicacion\n",
    "    \n",
    "\n",
    "    for i in range(1, numero):\n",
    "        if i % 2 == 0:\n",
    "            print(i, \"es par\")\n",
    "\n",
    "        else:\n",
    "            print(i, \"es impar\")\n",
    "    \n",
    "    numero -=1\n",
    "\n",
    "    break\n",
    "\n"
   ]
  },
  {
   "attachments": {},
   "cell_type": "markdown",
   "metadata": {},
   "source": [
    "8) Crear un ciclo while dentro de un ciclo for"
   ]
  },
  {
   "cell_type": "code",
   "execution_count": 8,
   "metadata": {},
   "outputs": [
    {
     "name": "stdout",
     "output_type": "stream",
     "text": [
      "Ahora i es el numero 1\n"
     ]
    }
   ],
   "source": [
    "for i in range(2):\n",
    "\n",
    "    while i > 0:\n",
    "        print(\"Ahora i es el numero\", i)\n",
    "\n",
    "        i-=1\n",
    "    "
   ]
  },
  {
   "attachments": {},
   "cell_type": "markdown",
   "metadata": {},
   "source": [
    "9) Imprimir los números primos existentes entre 0 y 30"
   ]
  },
  {
   "cell_type": "code",
   "execution_count": 9,
   "metadata": {},
   "outputs": [
    {
     "name": "stdout",
     "output_type": "stream",
     "text": [
      "0\n",
      "1\n",
      "2\n",
      "3\n",
      "5\n",
      "7\n",
      "11\n",
      "13\n",
      "17\n",
      "19\n",
      "23\n",
      "29\n"
     ]
    }
   ],
   "source": [
    "# Establecemos el valor máximo del rango\n",
    "tope_rango = 30\n",
    "\n",
    "# Inicializamos la variable n en 0\n",
    "n = 0\n",
    "\n",
    "# Inicializamos la variable primo como verdadera\n",
    "primo = True\n",
    "\n",
    "# Comenzamos un bucle while que se ejecutará mientras n sea menor que el tope_rango\n",
    "while n < tope_rango:\n",
    "    # Comenzamos un bucle for que itera desde 2 hasta n-1\n",
    "    for div in range(2, n):\n",
    "        # Comprobamos si n es divisible entre div\n",
    "        if n % div == 0:\n",
    "            # Si es divisible, marcamos primo como falso\n",
    "            primo = False\n",
    "    \n",
    "    # Verificamos si la variable primo es verdadera\n",
    "    if primo:\n",
    "        # Si es verdadera, significa que n es un número primo, por lo que lo imprimimos\n",
    "        print(n)\n",
    "    else:\n",
    "        # Si primo es falso, significa que n no es un número primo, por lo que lo restablecemos a verdadero\n",
    "        primo = True\n",
    "    \n",
    "    # Incrementamos n en 1 para pasar al siguiente número\n",
    "    n += 1\n"
   ]
  },
  {
   "attachments": {},
   "cell_type": "markdown",
   "metadata": {},
   "source": [
    "10) ¿Se puede mejorar el proceso del punto 9? Utilizar las sentencias break y/ó continue para tal fin"
   ]
  },
  {
   "cell_type": "code",
   "execution_count": 10,
   "metadata": {},
   "outputs": [
    {
     "name": "stdout",
     "output_type": "stream",
     "text": [
      "0\n",
      "1\n",
      "2\n",
      "3\n",
      "5\n",
      "7\n",
      "11\n",
      "13\n",
      "17\n",
      "19\n",
      "23\n",
      "29\n",
      "134\n"
     ]
    }
   ],
   "source": [
    "# Con break\n",
    "\n",
    "# Establecemos el valor máximo del rango\n",
    "tope_rango = 30\n",
    "\n",
    "# Inicializamos la variable n en 0\n",
    "n = 0\n",
    "\n",
    "# Inicializamos la variable primo como verdadera\n",
    "con_break = 0\n",
    "\n",
    "primo = True\n",
    "\n",
    "# Comenzamos un bucle while que se ejecutará mientras n sea menor que el tope_rango\n",
    "while n < tope_rango:\n",
    "    # Comenzamos un bucle for que itera desde 2 hasta n-1\n",
    "    \n",
    "    for i in range(2, n):\n",
    "        con_break +=1\n",
    "        # Comprobamos si n es divisible entre div\n",
    "        if n % i == 0:\n",
    "            # Si es divisible, marcamos primo como falso\n",
    "            primo = False\n",
    "            break\n",
    "    \n",
    "    # Verificamos si la variable primo es verdadera\n",
    "    if primo:\n",
    "        # Si es verdadera, significa que n es un número primo, por lo que lo imprimimos\n",
    "        print(n)\n",
    "    else:\n",
    "        # Si primo es falso, significa que n no es un número primo, por lo que lo restablecemos a verdadero\n",
    "        primo = True\n",
    "    \n",
    "    # Incrementamos n en 1 para pasar al siguiente número\n",
    "    n += 1\n",
    "\n",
    "print(con_break)\n"
   ]
  },
  {
   "cell_type": "code",
   "execution_count": 26,
   "metadata": {},
   "outputs": [
    {
     "name": "stdout",
     "output_type": "stream",
     "text": [
      "2\n",
      "3\n",
      "5\n",
      "7\n",
      "11\n",
      "13\n",
      "17\n",
      "19\n",
      "23\n",
      "29\n",
      "406\n"
     ]
    }
   ],
   "source": [
    "# Sin break\n",
    "\n",
    "\n",
    "\n",
    "# Inicializamos la variable primo como verdadera\n",
    "sin_break = 0\n",
    "\n",
    "# Inicializamos la variable n en 0\n",
    "n = 0\n",
    "\n",
    "primo = True\n",
    "\n",
    "# Comenzamos un bucle while que se ejecutará mientras n sea menor que el tope_rango\n",
    "while n < 31:\n",
    "    # Comenzamos un bucle for que itera desde 2 hasta n-1\n",
    "    \n",
    "    for i in range(2, n):\n",
    "        sin_break +=1\n",
    "        # Comprobamos si n es divisible entre div\n",
    "        if n % i == 0:\n",
    "            # Si es divisible, marcamos primo como falso\n",
    "            primo = False\n",
    "            \n",
    "    \n",
    "    # Verificamos si la variable primo es verdadera\n",
    "    if primo:\n",
    "        # Si es verdadera, significa que n es un número primo, por lo que lo imprimimos\n",
    "        print(n)\n",
    "    else:\n",
    "        # Si primo es falso, significa que n no es un número primo, por lo que lo restablecemos a verdadero\n",
    "        primo = True\n",
    "    \n",
    "    # Incrementamos n en 1 para pasar al siguiente número\n",
    "    n += 1\n",
    "\n",
    "print(sin_break)\n"
   ]
  },
  {
   "attachments": {},
   "cell_type": "markdown",
   "metadata": {},
   "source": [
    "11) En los puntos 9 y 10, se diseño un código que encuentra números primos y además se lo optimizó. ¿Es posible saber en qué medida se optimizó?"
   ]
  },
  {
   "cell_type": "code",
   "execution_count": null,
   "metadata": {},
   "outputs": [],
   "source": [
    "# Sin break\n",
    "\n",
    "\n",
    "\n",
    "# Inicializamos la variable primo como verdadera\n",
    "sin_break = 0\n",
    "\n",
    "# Inicializamos la variable n en 0\n",
    "n = 0\n",
    "\n",
    "primo = True\n",
    "\n",
    "# Comenzamos un bucle while que se ejecutará mientras n sea menor que el tope_rango\n",
    "while n < 31:\n",
    "    # Comenzamos un bucle for que itera desde 2 hasta n-1\n",
    "    \n",
    "    for i in range(2, n):\n",
    "        sin_break +=1\n",
    "        print(\"El valor de n es\", n)\n",
    "        print(\"El valor de i es\", i)\n",
    "        # Comprobamos si n es divisible entre div\n",
    "        if n % i == 0:\n",
    "            # Si es divisible, marcamos primo como falso\n",
    "            primo = False\n",
    "            break\n",
    "            \n",
    "    \n",
    "    # Verificamos si la variable primo es verdadera\n",
    "    if primo:\n",
    "        # Si es verdadera, significa que n es un número primo, por lo que lo imprimimos\n",
    "        print(n)\n",
    "    else:\n",
    "        # Si primo es falso, significa que n no es un número primo, por lo que lo restablecemos a verdadero\n",
    "        primo = True\n",
    "    \n",
    "    # Incrementamos n en 1 para pasar al siguiente número\n",
    "    n += 1\n",
    "\n",
    "print(sin_break)"
   ]
  },
  {
   "cell_type": "code",
   "execution_count": 12,
   "metadata": {},
   "outputs": [
    {
     "name": "stdout",
     "output_type": "stream",
     "text": [
      "La optimizacion fue del 35.45%\n"
     ]
    }
   ],
   "source": [
    "optimizacion = con_break / sin_break *100\n",
    "\n",
    "print (f\"La optimizacion fue del {optimizacion:.2f}%\")"
   ]
  },
  {
   "attachments": {},
   "cell_type": "markdown",
   "metadata": {},
   "source": [
    "12) Aplicando continue, armar un ciclo while que solo imprima los valores divisibles por 12, dentro del rango de números de 100 a 300"
   ]
  },
  {
   "cell_type": "code",
   "execution_count": 35,
   "metadata": {},
   "outputs": [
    {
     "name": "stdout",
     "output_type": "stream",
     "text": [
      "108 Es divisible por 12\n",
      "120 Es divisible por 12\n",
      "132 Es divisible por 12\n",
      "144 Es divisible por 12\n",
      "156 Es divisible por 12\n",
      "168 Es divisible por 12\n",
      "180 Es divisible por 12\n",
      "192 Es divisible por 12\n",
      "204 Es divisible por 12\n",
      "216 Es divisible por 12\n",
      "228 Es divisible por 12\n",
      "240 Es divisible por 12\n",
      "252 Es divisible por 12\n",
      "264 Es divisible por 12\n",
      "276 Es divisible por 12\n",
      "288 Es divisible por 12\n",
      "300 Es divisible por 12\n"
     ]
    }
   ],
   "source": [
    "m = 100\n",
    "\n",
    "while m < 301:\n",
    "    if m % 12 == 0:\n",
    "        print(f\"{m} Es divisible por 12\")\n",
    "    m+=1\n",
    "\n",
    "    \n"
   ]
  },
  {
   "cell_type": "code",
   "execution_count": 14,
   "metadata": {},
   "outputs": [
    {
     "name": "stdout",
     "output_type": "stream",
     "text": [
      "108 Es divisible por 12\n",
      "120 Es divisible por 12\n",
      "132 Es divisible por 12\n",
      "144 Es divisible por 12\n",
      "156 Es divisible por 12\n",
      "168 Es divisible por 12\n",
      "180 Es divisible por 12\n",
      "192 Es divisible por 12\n",
      "204 Es divisible por 12\n",
      "216 Es divisible por 12\n",
      "228 Es divisible por 12\n",
      "240 Es divisible por 12\n",
      "252 Es divisible por 12\n",
      "264 Es divisible por 12\n",
      "276 Es divisible por 12\n",
      "288 Es divisible por 12\n",
      "300 Es divisible por 12\n"
     ]
    }
   ],
   "source": [
    "for i in range(100,301):\n",
    "    if i = 100:\n",
    "        continue\n",
    "    if i % 12 == 0:\n",
    "        print(f\"{i} Es divisible por 12\")"
   ]
  },
  {
   "attachments": {},
   "cell_type": "markdown",
   "metadata": {},
   "source": [
    "13) Utilizar la función **input()** que permite hacer ingresos por teclado, para encontrar números primos y dar la opción al usario de buscar el siguiente"
   ]
  },
  {
   "cell_type": "code",
   "execution_count": 72,
   "metadata": {},
   "outputs": [
    {
     "name": "stdout",
     "output_type": "stream",
     "text": [
      "El numero 4 no es primo\n",
      "El numero 5 es primo\n",
      "El numero 5 es primo\n"
     ]
    }
   ],
   "source": [
    "while True:\n",
    "    pri = int(input(\"Por favor escriba un entero mayor de 1 \"))\n",
    "    \n",
    "    primo = True\n",
    "    for i in range (2,pri):\n",
    "        if pri % i == 0:\n",
    "            primo = False\n",
    "            break \n",
    "\n",
    "    if primo:\n",
    "        print(f'El numero {pri} es primo')\n",
    "\n",
    "    else:\n",
    "        print(f'El numero {pri} no es primo')\n",
    "\n",
    "    seguir = str(input(\"Desea ingresar un nuevo numero? S para Si y N para No\")).lower()\n",
    "    if seguir != 's':\n",
    "        break\n",
    "\n"
   ]
  },
  {
   "attachments": {},
   "cell_type": "markdown",
   "metadata": {},
   "source": [
    "14) Crear un ciclo while que encuentre dentro del rango de 100 a 300 el primer número divisible por 3 y además múltiplo de 6"
   ]
  },
  {
   "cell_type": "code",
   "execution_count": 77,
   "metadata": {},
   "outputs": [
    {
     "name": "stdout",
     "output_type": "stream",
     "text": [
      "El primer numero de 100 a 300 divisible por 3 y 6 es 102\n"
     ]
    }
   ],
   "source": [
    "num1 = 100\n",
    "\n",
    "while num1 <=300:\n",
    "    if num1 % 3 == 0 and num1 % 6 == 0:\n",
    "        print(f\"El primer numero de 100 a 300 divisible por 3 y 6 es {num1}\")\n",
    "        break\n",
    "    num1+=1"
   ]
  }
 ],
 "metadata": {
  "interpreter": {
   "hash": "c85384e4cb51c8b72350f3a8712cc8351fdc3955e32a27f9b60c6242ab125f01"
  },
  "kernelspec": {
   "display_name": "Python 3 (ipykernel)",
   "language": "python",
   "name": "python3"
  },
  "language_info": {
   "codemirror_mode": {
    "name": "ipython",
    "version": 3
   },
   "file_extension": ".py",
   "mimetype": "text/x-python",
   "name": "python",
   "nbconvert_exporter": "python",
   "pygments_lexer": "ipython3",
   "version": "3.10.8"
  }
 },
 "nbformat": 4,
 "nbformat_minor": 4
}
